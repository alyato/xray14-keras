{
 "cells": [
  {
   "cell_type": "code",
   "execution_count": 2,
   "metadata": {
    "ExecuteTime": {
     "end_time": "2018-09-30T05:42:06.725430Z",
     "start_time": "2018-09-30T05:40:08.998968Z"
    }
   },
   "outputs": [
    {
     "name": "stdout",
     "output_type": "stream",
     "text": [
      "********************************************************************************\n",
      "There are total  86523  train and val data\n",
      "There are total  25595  test data\n",
      "**************************************** all data ****************************************\n",
      "There are total  112120  images.\n",
      "Infiltration        ---19894\n",
      "Effusion            ---13317\n",
      "Atelectasis         ---11559\n",
      "Nodule              ---6331\n",
      "Mass                ---5782\n",
      "Pneumothorax        ---5302\n",
      "Consolidation       ---4667\n",
      "Pleural_Thickening  ---3385\n",
      "Cardiomegaly        ---2776\n",
      "Emphysema           ---2516\n",
      "Edema               ---2303\n",
      "Fibrosis            ---1686\n",
      "Pneumonia           ---1431\n",
      "Hernia              ---227\n",
      "**************************************** train val data ****************************************\n",
      "There are total  86523  images.\n",
      "Infiltration        ---13782\n",
      "Effusion            ---8659\n",
      "Atelectasis         ---8280\n",
      "Nodule              ---4708\n",
      "Mass                ---4033\n",
      "Consolidation       ---2852\n",
      "Pneumothorax        ---2637\n",
      "Pleural_Thickening  ---2242\n",
      "Cardiomegaly        ---1707\n",
      "Emphysema           ---1423\n",
      "Edema               ---1378\n",
      "Fibrosis            ---1251\n",
      "Pneumonia           ---875\n",
      "Hernia              ---141\n",
      "**************************************** test data ****************************************\n",
      "There are total  25595  images.\n",
      "Infiltration        ---6112\n",
      "Effusion            ---4658\n",
      "Atelectasis         ---3279\n",
      "Pneumothorax        ---2665\n",
      "Consolidation       ---1815\n",
      "Mass                ---1748\n",
      "Nodule              ---1623\n",
      "Pleural_Thickening  ---1143\n",
      "Emphysema           ---1093\n",
      "Cardiomegaly        ---1069\n",
      "Edema               ---925\n",
      "Pneumonia           ---555\n",
      "Fibrosis            ---435\n",
      "Hernia              ---86\n",
      "the length of patientd id is  28008\n",
      "the length of train patients is  21881\n",
      "the length of val   patients is  7002\n",
      "**************************************** val data ****************************************\n",
      "There are total  19140  images.\n",
      "Infiltration        ---3066\n",
      "Effusion            ---2032\n",
      "Atelectasis         ---1747\n",
      "Nodule              ---1040\n",
      "Mass                ---875\n",
      "Consolidation       ---623\n",
      "Pneumothorax        ---566\n",
      "Pleural_Thickening  ---476\n",
      "Cardiomegaly        ---354\n",
      "Emphysema           ---329\n",
      "Edema               ---303\n",
      "Fibrosis            ---284\n",
      "Pneumonia           ---176\n",
      "Hernia              ---29\n"
     ]
    }
   ],
   "source": [
    "#encoding: utf-8\n",
    "from __future__ import print_function\n",
    "import os\n",
    "from config import config as cfg\n",
    "from proc.preproc import (describe_data, load_from_text,\n",
    "                          split_patients_by_patient_ID,\n",
    "                          get_class_weight)\n",
    "from proc.gennerator import ImageGeneratorFromPath\n",
    "from matplotlib import pyplot as plt\n",
    "from skimage.util.montage import montage2d\n",
    "from proc.image import ImageTransformer\n",
    "from model import Xception_CBAM\n",
    "from utils import makedir\n",
    "from keras import backend as K\n",
    "import tensorflow as tf\n",
    "import numpy as np\n",
    "from matplotlib import pyplot as plt\n",
    "cfg.data_root = 'I:/chest_xray'\n",
    "\n",
    "def show_batch_sample(gen, path=None):\n",
    "    batch_x, batch_y = next(gen)\n",
    "    x = montage2d(np.squeeze(batch_x[:, :, :, 0]))\n",
    "    fig = plt.figure(figsize=(15, 15))\n",
    "    plt.imshow(x, cmap='bone')\n",
    "    plt.axis('off')\n",
    "    if path:\n",
    "        plt.savefig(path)\n",
    "    else:\n",
    "        plt.show()\n",
    "train_val_df, test_df, xray14_labels = load_from_text(cfg.data_root)\n",
    "train_df, val_df = split_patients_by_patient_ID(train_val_df, 4, cfg.random_seed)\n",
    "print('*' * 40, 'val data', '*' * 40)\n",
    "describe_data(val_df, xray14_labels)\n",
    "val_transformer = ImageTransformer(samplewise_normalization=True)\n",
    "val_gen = ImageGeneratorFromPath(val_transformer, \n",
    "                                 val_df['path'],\n",
    "                                 val_df['xray14_vec'],\n",
    "                                 shuffle=False,\n",
    "                                 target_size=cfg.input_shape[:-1],\n",
    "                                 batch_size=1,\n",
    "                                 color_mode='rgb')"
   ]
  },
  {
   "cell_type": "code",
   "execution_count": 3,
   "metadata": {
    "collapsed": true
   },
   "outputs": [],
   "source": [
    "from config import config as cfg"
   ]
  },
  {
   "cell_type": "code",
   "execution_count": 4,
   "metadata": {
    "ExecuteTime": {
     "end_time": "2018-09-30T05:42:59.611602Z",
     "start_time": "2018-09-30T05:42:59.606570Z"
    },
    "collapsed": true
   },
   "outputs": [],
   "source": [
    "def get_pos(gen):\n",
    "    pos_l00 = []\n",
    "    i = 0\n",
    "    while 1:\n",
    "        image, label = next(gen)\n",
    "        if(np.sum(label) > 0):\n",
    "            pos_l00.append([image, label])\n",
    "            i = i + 1\n",
    "            if i == 100:\n",
    "                break\n",
    "    return pos_l00"
   ]
  },
  {
   "cell_type": "code",
   "execution_count": 5,
   "metadata": {
    "ExecuteTime": {
     "end_time": "2018-09-30T05:43:35.977415Z",
     "start_time": "2018-09-30T05:43:29.095141Z"
    },
    "collapsed": true
   },
   "outputs": [],
   "source": [
    "pos_l00 = get_pos(val_gen)"
   ]
  },
  {
   "cell_type": "code",
   "execution_count": 6,
   "metadata": {
    "ExecuteTime": {
     "end_time": "2018-09-30T05:43:35.986792Z",
     "start_time": "2018-09-30T05:43:35.980726Z"
    }
   },
   "outputs": [
    {
     "name": "stdout",
     "output_type": "stream",
     "text": [
      "['Effusion']\n"
     ]
    }
   ],
   "source": [
    "image, label = pos_l00[70]\n",
    "label = label[:]\n",
    "image = np.squeeze(image)\n",
    "pos_cls = []\n",
    "i = 0\n",
    "for xray_cls in label[0]:\n",
    "    if xray_cls > 0:\n",
    "        pos_cls.append(xray14_labels[i])\n",
    "    i = i + 1\n",
    "print(pos_cls)"
   ]
  },
  {
   "cell_type": "code",
   "execution_count": 9,
   "metadata": {
    "ExecuteTime": {
     "end_time": "2018-09-30T05:48:38.282004Z",
     "start_time": "2018-09-30T05:48:26.755526Z"
    }
   },
   "outputs": [
    {
     "name": "stdout",
     "output_type": "stream",
     "text": [
      "weight path does not exist!\n"
     ]
    }
   ],
   "source": [
    "model = Xception_CBAM(cfg.input_shape, include_top=True, \n",
    "                              n_class=len(xray14_labels),\n",
    "                              pretrain_weights='./logs/train_epoch_72.hdf5',\n",
    "                              layer_trainable=True)\n",
    "model.load_weights('./logs/train_epoch_72.hdf5')\n",
    "model.trainable = False"
   ]
  },
  {
   "cell_type": "code",
   "execution_count": 10,
   "metadata": {
    "ExecuteTime": {
     "end_time": "2018-09-30T05:48:40.873625Z",
     "start_time": "2018-09-30T05:48:40.868649Z"
    },
    "collapsed": true
   },
   "outputs": [],
   "source": [
    "def cam_model(model):\n",
    "    inputs_img = model.layers[0].input\n",
    "    saliency1 = model.get_layer('cbam1_spatial_sliency').output\n",
    "    saliency2 = model.get_layer('cbam2_spatial_sliency').output\n",
    "    func = K.function([inputs_img], [saliency1, saliency2])\n",
    "    return func"
   ]
  },
  {
   "cell_type": "code",
   "execution_count": 11,
   "metadata": {
    "ExecuteTime": {
     "end_time": "2018-09-30T05:50:37.313123Z",
     "start_time": "2018-09-30T05:50:37.269366Z"
    }
   },
   "outputs": [
    {
     "name": "stdout",
     "output_type": "stream",
     "text": [
      "(1, 256, 256, 3)\n"
     ]
    }
   ],
   "source": [
    "train_x, train_y = val_gen[0]\n",
    "print(train_x.shape)"
   ]
  },
  {
   "cell_type": "code",
   "execution_count": 18,
   "metadata": {
    "ExecuteTime": {
     "end_time": "2018-09-30T06:04:20.598964Z",
     "start_time": "2018-09-30T06:04:19.481769Z"
    }
   },
   "outputs": [
    {
     "name": "stdout",
     "output_type": "stream",
     "text": [
      "[[0.0 0.0 0.0 0.0 1.0 0.0 0.0 0.0 0.0 0.0 0.0 0.0 0.0 0.0]]\n",
      "[[ True False False False False False False False  True False False False\n",
      "  False False]]\n"
     ]
    }
   ],
   "source": [
    "get_saliency = cam_model(model)\n",
    "[saliency1, saliency2] = get_saliency([train_x])\n",
    "predict = model.predict_on_batch(train_x)\n",
    "print(train_y)\n",
    "print(predict > 0.1)"
   ]
  },
  {
   "cell_type": "code",
   "execution_count": 57,
   "metadata": {
    "ExecuteTime": {
     "end_time": "2018-09-30T06:03:33.288944Z",
     "start_time": "2018-09-30T06:03:33.280802Z"
    }
   },
   "outputs": [
    {
     "name": "stdout",
     "output_type": "stream",
     "text": [
      "[[0.2711693  0.06785741 0.01878405 0.00720345 0.05056421 0.08362022\n",
      "  0.03811451 0.02623367 0.17442395 0.01274038 0.04365396 0.04819718\n",
      "  0.011421   0.08313294]]\n",
      "['Atelectasis', 'Cardiomegaly', 'Consolidation', 'Edema', 'Effusion', 'Emphysema', 'Fibrosis', 'Hernia', 'Infiltration', 'Mass', 'Nodule', 'Pleural_Thickening', 'Pneumonia', 'Pneumothorax']\n"
     ]
    }
   ],
   "source": [
    "print(predict)\n",
    "print(xray14_labels)"
   ]
  },
  {
   "cell_type": "code",
   "execution_count": 19,
   "metadata": {
    "ExecuteTime": {
     "end_time": "2018-09-30T05:53:53.086460Z",
     "start_time": "2018-09-30T05:53:53.079250Z"
    }
   },
   "outputs": [
    {
     "name": "stdout",
     "output_type": "stream",
     "text": [
      "(1, 16, 16, 1)\n"
     ]
    }
   ],
   "source": [
    "import cv2\n",
    "print(saliency1.shape)\n",
    "saliency1 = cv2.resize(np.squeeze(saliency1), image.shape[:2])\n",
    "saliency2 = cv2.resize(np.squeeze(saliency2), image.shape[:2])"
   ]
  },
  {
   "cell_type": "code",
   "execution_count": 14,
   "metadata": {
    "ExecuteTime": {
     "end_time": "2018-09-30T05:53:28.533255Z",
     "start_time": "2018-09-30T05:53:28.527458Z"
    }
   },
   "outputs": [
    {
     "data": {
      "text/plain": [
       "(256, 256)"
      ]
     },
     "execution_count": 14,
     "metadata": {},
     "output_type": "execute_result"
    }
   ],
   "source": [
    "saliency2.shape"
   ]
  },
  {
   "cell_type": "code",
   "execution_count": 23,
   "metadata": {
    "ExecuteTime": {
     "end_time": "2018-09-30T05:55:57.677189Z",
     "start_time": "2018-09-30T05:55:57.484099Z"
    }
   },
   "outputs": [
    {
     "data": {
      "text/plain": [
       "<matplotlib.image.AxesImage at 0x27c5e541828>"
      ]
     },
     "execution_count": 23,
     "metadata": {},
     "output_type": "execute_result"
    },
    {
     "data": {
      "image/png": "[encoded data removed]",
      "text/plain": [
       "<matplotlib.figure.Figure at 0x27c5e488470>"
      ]
     },
     "metadata": {},
     "output_type": "display_data"
    }
   ],
   "source": [
    "%matplotlib inline\n",
    "from matplotlib import pyplot as plt\n",
    "plt.imshow(saliency2)"
   ]
  },
  {
   "cell_type": "code",
   "execution_count": 24,
   "metadata": {
    "ExecuteTime": {
     "end_time": "2018-09-30T05:53:59.988818Z",
     "start_time": "2018-09-30T05:53:59.983477Z"
    },
    "collapsed": true
   },
   "outputs": [],
   "source": [
    "org_img = (image - image.min()) / (image.max() - image.min()) "
   ]
  },
  {
   "cell_type": "code",
   "execution_count": 25,
   "metadata": {
    "ExecuteTime": {
     "end_time": "2018-09-30T05:54:00.615630Z",
     "start_time": "2018-09-30T05:54:00.344556Z"
    }
   },
   "outputs": [
    {
     "data": {
      "text/plain": [
       "<matplotlib.image.AxesImage at 0x27c64e0a860>"
      ]
     },
     "execution_count": 25,
     "metadata": {},
     "output_type": "execute_result"
    },
    {
     "data": {
      "image/png": "[encoded data removed]",
      "text/plain": [
       "<matplotlib.figure.Figure at 0x27c5e4f9c50>"
      ]
     },
     "metadata": {},
     "output_type": "display_data"
    }
   ],
   "source": [
    "heatmap = cv2.applyColorMap(np.uint8(255 * saliency2), cv2.COLORMAP_JET)\n",
    "heatmap[np.where(saliency2 < 0.2)] = 0\n",
    "saliency_img = heatmap * 0.5 + org_img\n",
    "plt.imshow(saliency_img)"
   ]
  },
  {
   "cell_type": "code",
   "execution_count": 23,
   "metadata": {
    "ExecuteTime": {
     "end_time": "2018-09-30T05:47:27.574991Z",
     "start_time": "2018-09-30T05:47:27.322857Z"
    }
   },
   "outputs": [
    {
     "data": {
      "text/plain": [
       "<matplotlib.image.AxesImage at 0x7eff980e4898>"
      ]
     },
     "execution_count": 23,
     "metadata": {},
     "output_type": "execute_result"
    },
    {
     "data": {
      "image/png": "[encoded data removed]",
      "text/plain": [
       "<Figure size 432x288 with 1 Axes>"
      ]
     },
     "metadata": {},
     "output_type": "display_data"
    }
   ],
   "source": [
    "plt.imshow(org_img)"
   ]
  },
  {
   "cell_type": "code",
   "execution_count": 25,
   "metadata": {},
   "outputs": [
    {
     "name": "stdout",
     "output_type": "stream",
     "text": [
      "cbam1_channel_squeeze --- is not trainable.\n",
      "cbam1_channel_extraction --- is not trainable.\n",
      "cbam1_spatial_sliency --- is not trainable.\n",
      "cbam2_channel_squeeze --- is not trainable.\n",
      "cbam2_channel_extraction --- is not trainable.\n",
      "cbam2_spatial_sliency --- is not trainable.\n"
     ]
    }
   ],
   "source": [
    "for layer in model.layers:\n",
    "    if 'cbam' in layer.name:\n",
    "        print(layer.name, '--- is not trainable.')"
   ]
  },
  {
   "cell_type": "code",
   "execution_count": 158,
   "metadata": {},
   "outputs": [
    {
     "data": {
      "text/html": [
       "<div>\n",
       "<style>\n",
       "    .dataframe thead tr:only-child th {\n",
       "        text-align: right;\n",
       "    }\n",
       "\n",
       "    .dataframe thead th {\n",
       "        text-align: left;\n",
       "    }\n",
       "\n",
       "    .dataframe tbody tr th {\n",
       "        vertical-align: top;\n",
       "    }\n",
       "</style>\n",
       "<table border=\"1\" class=\"dataframe\">\n",
       "  <thead>\n",
       "    <tr style=\"text-align: right;\">\n",
       "      <th></th>\n",
       "      <th>Image Index</th>\n",
       "      <th>Finding Labels</th>\n",
       "      <th>Follow-up #</th>\n",
       "      <th>Patient ID</th>\n",
       "      <th>Patient Age</th>\n",
       "      <th>Patient Gender</th>\n",
       "      <th>View Position</th>\n",
       "      <th>OriginalImage[Width</th>\n",
       "      <th>Height]</th>\n",
       "      <th>OriginalImagePixelSpacing[x</th>\n",
       "      <th>y]</th>\n",
       "      <th>path</th>\n",
       "      <th>Atelectasis</th>\n",
       "      <th>Cardiomegaly</th>\n",
       "      <th>Consolidation</th>\n",
       "      <th>Edema</th>\n",
       "      <th>Effusion</th>\n",
       "      <th>Emphysema</th>\n",
       "      <th>Fibrosis</th>\n",
       "      <th>Hernia</th>\n",
       "      <th>Infiltration</th>\n",
       "      <th>Mass</th>\n",
       "      <th>Nodule</th>\n",
       "      <th>Pleural_Thickening</th>\n",
       "      <th>Pneumonia</th>\n",
       "      <th>Pneumothorax</th>\n",
       "      <th>xray14_vec</th>\n",
       "    </tr>\n",
       "  </thead>\n",
       "  <tbody>\n",
       "    <tr>\n",
       "      <th>0</th>\n",
       "      <td>00000001_000.png</td>\n",
       "      <td>Cardiomegaly</td>\n",
       "      <td>0</td>\n",
       "      <td>1</td>\n",
       "      <td>58</td>\n",
       "      <td>M</td>\n",
       "      <td>PA</td>\n",
       "      <td>2682</td>\n",
       "      <td>2749</td>\n",
       "      <td>0.143</td>\n",
       "      <td>0.143</td>\n",
       "      <td>I:/chest_xray\\images\\images001\\00000001_000.png</td>\n",
       "      <td>0.0</td>\n",
       "      <td>1.0</td>\n",
       "      <td>0.0</td>\n",
       "      <td>0.0</td>\n",
       "      <td>0.0</td>\n",
       "      <td>0.0</td>\n",
       "      <td>0.0</td>\n",
       "      <td>0.0</td>\n",
       "      <td>0.0</td>\n",
       "      <td>0.0</td>\n",
       "      <td>0.0</td>\n",
       "      <td>0.0</td>\n",
       "      <td>0.0</td>\n",
       "      <td>0.0</td>\n",
       "      <td>[0.0, 1.0, 0.0, 0.0, 0.0, 0.0, 0.0, 0.0, 0.0, ...</td>\n",
       "    </tr>\n",
       "    <tr>\n",
       "      <th>1</th>\n",
       "      <td>00000001_001.png</td>\n",
       "      <td>Cardiomegaly|Emphysema</td>\n",
       "      <td>1</td>\n",
       "      <td>1</td>\n",
       "      <td>58</td>\n",
       "      <td>M</td>\n",
       "      <td>PA</td>\n",
       "      <td>2894</td>\n",
       "      <td>2729</td>\n",
       "      <td>0.143</td>\n",
       "      <td>0.143</td>\n",
       "      <td>I:/chest_xray\\images\\images001\\00000001_001.png</td>\n",
       "      <td>0.0</td>\n",
       "      <td>1.0</td>\n",
       "      <td>0.0</td>\n",
       "      <td>0.0</td>\n",
       "      <td>0.0</td>\n",
       "      <td>1.0</td>\n",
       "      <td>0.0</td>\n",
       "      <td>0.0</td>\n",
       "      <td>0.0</td>\n",
       "      <td>0.0</td>\n",
       "      <td>0.0</td>\n",
       "      <td>0.0</td>\n",
       "      <td>0.0</td>\n",
       "      <td>0.0</td>\n",
       "      <td>[0.0, 1.0, 0.0, 0.0, 0.0, 1.0, 0.0, 0.0, 0.0, ...</td>\n",
       "    </tr>\n",
       "    <tr>\n",
       "      <th>2</th>\n",
       "      <td>00000001_002.png</td>\n",
       "      <td>Cardiomegaly|Effusion</td>\n",
       "      <td>2</td>\n",
       "      <td>1</td>\n",
       "      <td>58</td>\n",
       "      <td>M</td>\n",
       "      <td>PA</td>\n",
       "      <td>2500</td>\n",
       "      <td>2048</td>\n",
       "      <td>0.168</td>\n",
       "      <td>0.168</td>\n",
       "      <td>I:/chest_xray\\images\\images001\\00000001_002.png</td>\n",
       "      <td>0.0</td>\n",
       "      <td>1.0</td>\n",
       "      <td>0.0</td>\n",
       "      <td>0.0</td>\n",
       "      <td>1.0</td>\n",
       "      <td>0.0</td>\n",
       "      <td>0.0</td>\n",
       "      <td>0.0</td>\n",
       "      <td>0.0</td>\n",
       "      <td>0.0</td>\n",
       "      <td>0.0</td>\n",
       "      <td>0.0</td>\n",
       "      <td>0.0</td>\n",
       "      <td>0.0</td>\n",
       "      <td>[0.0, 1.0, 0.0, 0.0, 1.0, 0.0, 0.0, 0.0, 0.0, ...</td>\n",
       "    </tr>\n",
       "    <tr>\n",
       "      <th>3</th>\n",
       "      <td>00000002_000.png</td>\n",
       "      <td></td>\n",
       "      <td>0</td>\n",
       "      <td>2</td>\n",
       "      <td>81</td>\n",
       "      <td>M</td>\n",
       "      <td>PA</td>\n",
       "      <td>2500</td>\n",
       "      <td>2048</td>\n",
       "      <td>0.171</td>\n",
       "      <td>0.171</td>\n",
       "      <td>I:/chest_xray\\images\\images001\\00000002_000.png</td>\n",
       "      <td>0.0</td>\n",
       "      <td>0.0</td>\n",
       "      <td>0.0</td>\n",
       "      <td>0.0</td>\n",
       "      <td>0.0</td>\n",
       "      <td>0.0</td>\n",
       "      <td>0.0</td>\n",
       "      <td>0.0</td>\n",
       "      <td>0.0</td>\n",
       "      <td>0.0</td>\n",
       "      <td>0.0</td>\n",
       "      <td>0.0</td>\n",
       "      <td>0.0</td>\n",
       "      <td>0.0</td>\n",
       "      <td>[0.0, 0.0, 0.0, 0.0, 0.0, 0.0, 0.0, 0.0, 0.0, ...</td>\n",
       "    </tr>\n",
       "    <tr>\n",
       "      <th>12</th>\n",
       "      <td>00000004_000.png</td>\n",
       "      <td>Mass|Nodule</td>\n",
       "      <td>0</td>\n",
       "      <td>4</td>\n",
       "      <td>82</td>\n",
       "      <td>M</td>\n",
       "      <td>AP</td>\n",
       "      <td>2500</td>\n",
       "      <td>2048</td>\n",
       "      <td>0.168</td>\n",
       "      <td>0.168</td>\n",
       "      <td>I:/chest_xray\\images\\images001\\00000004_000.png</td>\n",
       "      <td>0.0</td>\n",
       "      <td>0.0</td>\n",
       "      <td>0.0</td>\n",
       "      <td>0.0</td>\n",
       "      <td>0.0</td>\n",
       "      <td>0.0</td>\n",
       "      <td>0.0</td>\n",
       "      <td>0.0</td>\n",
       "      <td>0.0</td>\n",
       "      <td>1.0</td>\n",
       "      <td>1.0</td>\n",
       "      <td>0.0</td>\n",
       "      <td>0.0</td>\n",
       "      <td>0.0</td>\n",
       "      <td>[0.0, 0.0, 0.0, 0.0, 0.0, 0.0, 0.0, 0.0, 0.0, ...</td>\n",
       "    </tr>\n",
       "  </tbody>\n",
       "</table>\n",
       "</div>"
      ],
      "text/plain": [
       "         Image Index          Finding Labels  Follow-up #  Patient ID  \\\n",
       "0   00000001_000.png            Cardiomegaly            0           1   \n",
       "1   00000001_001.png  Cardiomegaly|Emphysema            1           1   \n",
       "2   00000001_002.png   Cardiomegaly|Effusion            2           1   \n",
       "3   00000002_000.png                                    0           2   \n",
       "12  00000004_000.png             Mass|Nodule            0           4   \n",
       "\n",
       "    Patient Age Patient Gender View Position  OriginalImage[Width  Height]  \\\n",
       "0            58              M            PA                 2682     2749   \n",
       "1            58              M            PA                 2894     2729   \n",
       "2            58              M            PA                 2500     2048   \n",
       "3            81              M            PA                 2500     2048   \n",
       "12           82              M            AP                 2500     2048   \n",
       "\n",
       "    OriginalImagePixelSpacing[x     y]  \\\n",
       "0                         0.143  0.143   \n",
       "1                         0.143  0.143   \n",
       "2                         0.168  0.168   \n",
       "3                         0.171  0.171   \n",
       "12                        0.168  0.168   \n",
       "\n",
       "                                               path  Atelectasis  \\\n",
       "0   I:/chest_xray\\images\\images001\\00000001_000.png          0.0   \n",
       "1   I:/chest_xray\\images\\images001\\00000001_001.png          0.0   \n",
       "2   I:/chest_xray\\images\\images001\\00000001_002.png          0.0   \n",
       "3   I:/chest_xray\\images\\images001\\00000002_000.png          0.0   \n",
       "12  I:/chest_xray\\images\\images001\\00000004_000.png          0.0   \n",
       "\n",
       "    Cardiomegaly  Consolidation  Edema  Effusion  Emphysema  Fibrosis  Hernia  \\\n",
       "0            1.0            0.0    0.0       0.0        0.0       0.0     0.0   \n",
       "1            1.0            0.0    0.0       0.0        1.0       0.0     0.0   \n",
       "2            1.0            0.0    0.0       1.0        0.0       0.0     0.0   \n",
       "3            0.0            0.0    0.0       0.0        0.0       0.0     0.0   \n",
       "12           0.0            0.0    0.0       0.0        0.0       0.0     0.0   \n",
       "\n",
       "    Infiltration  Mass  Nodule  Pleural_Thickening  Pneumonia  Pneumothorax  \\\n",
       "0            0.0   0.0     0.0                 0.0        0.0           0.0   \n",
       "1            0.0   0.0     0.0                 0.0        0.0           0.0   \n",
       "2            0.0   0.0     0.0                 0.0        0.0           0.0   \n",
       "3            0.0   0.0     0.0                 0.0        0.0           0.0   \n",
       "12           0.0   1.0     1.0                 0.0        0.0           0.0   \n",
       "\n",
       "                                           xray14_vec  \n",
       "0   [0.0, 1.0, 0.0, 0.0, 0.0, 0.0, 0.0, 0.0, 0.0, ...  \n",
       "1   [0.0, 1.0, 0.0, 0.0, 0.0, 1.0, 0.0, 0.0, 0.0, ...  \n",
       "2   [0.0, 1.0, 0.0, 0.0, 1.0, 0.0, 0.0, 0.0, 0.0, ...  \n",
       "3   [0.0, 0.0, 0.0, 0.0, 0.0, 0.0, 0.0, 0.0, 0.0, ...  \n",
       "12  [0.0, 0.0, 0.0, 0.0, 0.0, 0.0, 0.0, 0.0, 0.0, ...  "
      ]
     },
     "execution_count": 158,
     "metadata": {},
     "output_type": "execute_result"
    }
   ],
   "source": [
    "import pandas as pd\n",
    "pd.options.display.max_columns = 100\n",
    "train_df.head()"
   ]
  },
  {
   "cell_type": "code",
   "execution_count": 159,
   "metadata": {},
   "outputs": [
    {
     "data": {
      "text/plain": [
       "array([0.0, 1.0, 0.0, 0.0, 0.0, 0.0, 0.0, 0.0, 0.0, 0.0, 0.0, 0.0, 0.0,\n",
       "       0.0], dtype=object)"
      ]
     },
     "execution_count": 159,
     "metadata": {},
     "output_type": "execute_result"
    }
   ],
   "source": [
    "train_df['xray14_vec'].values[0]"
   ]
  },
  {
   "cell_type": "code",
   "execution_count": 163,
   "metadata": {},
   "outputs": [
    {
     "data": {
      "text/plain": [
       "array([0., 1., 0., 0., 0., 0., 0., 0., 0., 0., 0., 0., 0., 0.],\n",
       "      dtype=float32)"
      ]
     },
     "execution_count": 163,
     "metadata": {},
     "output_type": "execute_result"
    }
   ],
   "source": [
    "np.array(train_df['xray14_vec'].values[0], dtype=np.float32)"
   ]
  },
  {
   "cell_type": "code",
   "execution_count": null,
   "metadata": {
    "collapsed": true
   },
   "outputs": [],
   "source": []
  }
 ],
 "metadata": {
  "kernelspec": {
   "display_name": "Python 3",
   "language": "python",
   "name": "python3"
  },
  "language_info": {
   "codemirror_mode": {
    "name": "ipython",
    "version": 3
   },
   "file_extension": ".py",
   "mimetype": "text/x-python",
   "name": "python",
   "nbconvert_exporter": "python",
   "pygments_lexer": "ipython3",
   "version": "3.6.3"
  },
  "latex_envs": {
   "LaTeX_envs_menu_present": true,
   "autoclose": false,
   "autocomplete": true,
   "bibliofile": "biblio.bib",
   "cite_by": "apalike",
   "current_citInitial": 1,
   "eqLabelWithNumbers": true,
   "eqNumInitial": 1,
   "hotkeys": {
    "equation": "Ctrl-E",
    "itemize": "Ctrl-I"
   },
   "labels_anchors": false,
   "latex_user_defs": false,
   "report_style_numbering": false,
   "user_envs_cfg": false
  }
 },
 "nbformat": 4,
 "nbformat_minor": 2
}
